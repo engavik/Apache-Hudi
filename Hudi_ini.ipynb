{
 "cells": [
  {
   "cell_type": "code",
   "execution_count": null,
   "metadata": {},
   "outputs": [],
   "source": [
    "#initializing the spark shell with hudi packages\n",
    "./spark-shell --packages org.apache.hudi:hudi-spark-bundle_2.11:0.6.0,org.apache.spark:spark-avro_2.11:2.4.4\n",
    "    --conf 'spark.serializer=org.apache.spark.serializer.KryoSerializer'"
   ]
  },
  {
   "cell_type": "code",
   "execution_count": null,
   "metadata": {},
   "outputs": [],
   "source": [
    "#importing hudi libraries in Scala\n",
    "import org.apache.hudi.QuickstartUtils._\n",
    "import scala.collection.JavaConversions._\n",
    "import org.apache.spark.sql.SaveMode._\n",
    "import org.apache.hudi.DataSourceReadOptions._\n",
    "import org.apache.hudi.DataSourceWriteOptions._\n",
    "import org.apache.hudi.config.HoodieWriteConfig._"
   ]
  },
  {
   "cell_type": "code",
   "execution_count": null,
   "metadata": {},
   "outputs": [],
   "source": [
    "#table name\n",
    "val tableName = \"hudi_trips_cow\"\n",
    "\n",
    "#inside spark2: a path for saving the partitions\n",
    "val basePath = \"file:///tmp/hudi_trips_cow\"\n",
    "\n",
    "#a fancy data generator for random data insertion\n",
    "val dataGen = new DataGenerator"
   ]
  },
  {
   "cell_type": "code",
   "execution_count": null,
   "metadata": {},
   "outputs": [],
   "source": [
    "#generating new trips\n",
    "val inserts = convertToStringList(dataGen.generateInserts(10))\n",
    "\n",
    "#loading them into a dataframe\n",
    "val df = spark.read.json(spark.sparkContext.parallelize(inserts, 2))\n",
    "\n",
    "#writing the dataframe into a Hudi table\n",
    "df.write.format(\"hudi\").\n",
    "  options(getQuickstartWriteConfigs).\n",
    "  option(PRECOMBINE_FIELD_OPT_KEY, \"ts\").\n",
    "  option(RECORDKEY_FIELD_OPT_KEY, \"uuid\").\n",
    "  option(PARTITIONPATH_FIELD_OPT_KEY, \"partitionpath\").\n",
    "  option(TABLE_NAME, tableName).\n",
    "  mode(Overwrite).\n",
    "  save(basePath)"
   ]
  },
  {
   "cell_type": "code",
   "execution_count": null,
   "metadata": {},
   "outputs": [],
   "source": [
    "#loading into a dataframe for query purpose\n",
    "val tripsSnapshotDF = spark.\n",
    "  read.\n",
    "  format(\"hudi\").\n",
    "  load(basePath + \"/*/*/*/*\").\n",
    "  createOrReplaceTempView(\"hudi_trips_snapshot\")\n"
   ]
  },
  {
   "cell_type": "code",
   "execution_count": null,
   "metadata": {},
   "outputs": [],
   "source": [
    "#querying the table\n",
    "spark.sql(\"select fare, begin_lon, begin_lat, ts from  hudi_trips_snapshot where fare > 20.0\").show()"
   ]
  }
 ],
 "metadata": {
  "kernelspec": {
   "display_name": "Python 3",
   "language": "python",
   "name": "python3"
  },
  "language_info": {
   "codemirror_mode": {
    "name": "ipython",
    "version": 3
   },
   "file_extension": ".py",
   "mimetype": "text/x-python",
   "name": "python",
   "nbconvert_exporter": "python",
   "pygments_lexer": "ipython3",
   "version": "3.7.6"
  }
 },
 "nbformat": 4,
 "nbformat_minor": 4
}
